{
 "cells": [
  {
   "cell_type": "markdown",
   "id": "80b36302",
   "metadata": {},
   "source": [
    "# Step 1: Install and import the libraries"
   ]
  },
  {
   "cell_type": "code",
   "execution_count": 1,
   "id": "5cd45b96",
   "metadata": {},
   "outputs": [
    {
     "name": "stdout",
     "output_type": "stream",
     "text": [
      "Requirement already satisfied: nltk in d:\\anaconda\\lib\\site-packages (3.8.1)\n",
      "Requirement already satisfied: click in d:\\anaconda\\lib\\site-packages (from nltk) (8.0.4)\n",
      "Requirement already satisfied: joblib in d:\\anaconda\\lib\\site-packages (from nltk) (1.2.0)\n",
      "Requirement already satisfied: regex>=2021.8.3 in d:\\anaconda\\lib\\site-packages (from nltk) (2022.7.9)\n",
      "Requirement already satisfied: tqdm in d:\\anaconda\\lib\\site-packages (from nltk) (4.65.0)\n",
      "Requirement already satisfied: colorama in d:\\anaconda\\lib\\site-packages (from click->nltk) (0.4.6)\n",
      "Collecting textblob\n",
      "  Obtaining dependency information for textblob from https://files.pythonhosted.org/packages/02/07/5fd2945356dd839974d3a25de8a142dc37293c21315729a41e775b5f3569/textblob-0.18.0.post0-py3-none-any.whl.metadata\n",
      "  Downloading textblob-0.18.0.post0-py3-none-any.whl.metadata (4.5 kB)\n",
      "Requirement already satisfied: nltk>=3.8 in d:\\anaconda\\lib\\site-packages (from textblob) (3.8.1)\n",
      "Requirement already satisfied: click in d:\\anaconda\\lib\\site-packages (from nltk>=3.8->textblob) (8.0.4)\n",
      "Requirement already satisfied: joblib in d:\\anaconda\\lib\\site-packages (from nltk>=3.8->textblob) (1.2.0)\n",
      "Requirement already satisfied: regex>=2021.8.3 in d:\\anaconda\\lib\\site-packages (from nltk>=3.8->textblob) (2022.7.9)\n",
      "Requirement already satisfied: tqdm in d:\\anaconda\\lib\\site-packages (from nltk>=3.8->textblob) (4.65.0)\n",
      "Requirement already satisfied: colorama in d:\\anaconda\\lib\\site-packages (from click->nltk>=3.8->textblob) (0.4.6)\n",
      "Downloading textblob-0.18.0.post0-py3-none-any.whl (626 kB)\n",
      "   ---------------------------------------- 0.0/626.3 kB ? eta -:--:--\n",
      "   --------- ------------------------------ 153.6/626.3 kB 4.5 MB/s eta 0:00:01\n",
      "   ---------------------------------------- 626.3/626.3 kB 7.8 MB/s eta 0:00:00\n",
      "Installing collected packages: textblob\n",
      "Successfully installed textblob-0.18.0.post0\n"
     ]
    }
   ],
   "source": [
    "# Install NLTK and TextBlob\n",
    "!pip install nltk\n",
    "!pip install textblob"
   ]
  },
  {
   "cell_type": "markdown",
   "id": "4dfa7ce4",
   "metadata": {},
   "source": [
    "# Import necessary libraries"
   ]
  },
  {
   "cell_type": "code",
   "execution_count": 2,
   "id": "38f9f471",
   "metadata": {},
   "outputs": [
    {
     "name": "stderr",
     "output_type": "stream",
     "text": [
      "D:\\Anaconda\\Lib\\site-packages\\numpy\\_distributor_init.py:30: UserWarning: loaded more than 1 DLL from .libs:\n",
      "D:\\Anaconda\\Lib\\site-packages\\numpy\\.libs\\libopenblas.FB5AE2TYXYH2IJRDKGDGQ3XBKLKTF43H.gfortran-win_amd64.dll\n",
      "D:\\Anaconda\\Lib\\site-packages\\numpy\\.libs\\libopenblas64__v0.3.21-gcc_10_3_0.dll\n",
      "  warnings.warn(\"loaded more than 1 DLL from .libs:\"\n"
     ]
    }
   ],
   "source": [
    "import nltk\n",
    "from textblob import TextBlob\n",
    "from nltk.sentiment import SentimentIntensityAnalyzer"
   ]
  },
  {
   "cell_type": "markdown",
   "id": "b3c4660d",
   "metadata": {},
   "source": [
    "# Step 2: Download NLTK data"
   ]
  },
  {
   "cell_type": "code",
   "execution_count": 3,
   "id": "444678e3",
   "metadata": {},
   "outputs": [
    {
     "name": "stderr",
     "output_type": "stream",
     "text": [
      "[nltk_data] Downloading package punkt to\n",
      "[nltk_data]     C:\\Users\\gkart\\AppData\\Roaming\\nltk_data...\n",
      "[nltk_data]   Package punkt is already up-to-date!\n",
      "[nltk_data] Downloading package vader_lexicon to\n",
      "[nltk_data]     C:\\Users\\gkart\\AppData\\Roaming\\nltk_data...\n",
      "[nltk_data]   Package vader_lexicon is already up-to-date!\n"
     ]
    },
    {
     "data": {
      "text/plain": [
       "True"
      ]
     },
     "execution_count": 3,
     "metadata": {},
     "output_type": "execute_result"
    }
   ],
   "source": [
    "nltk.download('punkt')\n",
    "nltk.download('vader_lexicon')"
   ]
  },
  {
   "cell_type": "markdown",
   "id": "6b94afcc",
   "metadata": {},
   "source": [
    "# Step 3: Define some sample texts"
   ]
  },
  {
   "cell_type": "code",
   "execution_count": 4,
   "id": "031449d4",
   "metadata": {},
   "outputs": [],
   "source": [
    "tweets = [\n",
    "    \"Just finished watching the new movie, it was amazing! #movienight 🎬\",\n",
    "    \"The weather today is awful, I hate rainy days. ☔️\",\n",
    "    \"Had a great experience at the restaurant, the food was delicious! 🍔\"\n",
    "]\n"
   ]
  },
  {
   "cell_type": "markdown",
   "id": "9b19e801",
   "metadata": {},
   "source": [
    "# Step 4: Perform sentiment analysis using TextBlob"
   ]
  },
  {
   "cell_type": "code",
   "execution_count": 5,
   "id": "7e9d77bd",
   "metadata": {},
   "outputs": [
    {
     "name": "stdout",
     "output_type": "stream",
     "text": [
      "Sentiment analysis using TextBlob:\n",
      "Sentiment of 'Just finished watching the new movie, it was amazing! #movienight 🎬': positive\n",
      "Sentiment of 'The weather today is awful, I hate rainy days. ☔️': negative\n",
      "Sentiment of 'Had a great experience at the restaurant, the food was delicious! 🍔': positive\n"
     ]
    }
   ],
   "source": [
    "print(\"Sentiment analysis using TextBlob:\")\n",
    "for tweet in tweets:\n",
    "    blob = TextBlob(tweet)\n",
    "    sentiment = \"positive\" if blob.sentiment.polarity > 0 else \"negative\" if blob.sentiment.polarity < 0 else \"neutral\"\n",
    "    print(f\"Sentiment of '{tweet}': {sentiment}\")\n"
   ]
  },
  {
   "cell_type": "markdown",
   "id": "9a8f592c",
   "metadata": {},
   "source": [
    "# Step 5: Perform sentiment analysis using NLTK"
   ]
  },
  {
   "cell_type": "code",
   "execution_count": 6,
   "id": "2816fe1b",
   "metadata": {},
   "outputs": [
    {
     "name": "stdout",
     "output_type": "stream",
     "text": [
      "\n",
      "Sentiment analysis using NLTK:\n",
      "Sentiment of 'Just finished watching the new movie, it was amazing! #movienight 🎬': positive\n",
      "Sentiment of 'The weather today is awful, I hate rainy days. ☔️': negative\n",
      "Sentiment of 'Had a great experience at the restaurant, the food was delicious! 🍔': positive\n"
     ]
    }
   ],
   "source": [
    "# Create SentimentIntensityAnalyzer instance\n",
    "sia = SentimentIntensityAnalyzer()\n",
    "\n",
    "print(\"\\nSentiment analysis using NLTK:\")\n",
    "for tweet in tweets:\n",
    "    scores = sia.polarity_scores(tweet)\n",
    "    sentiment = \"positive\" if scores['compound'] > 0 else \"negative\" if scores['compound'] < 0 else \"neutral\"\n",
    "    print(f\"Sentiment of '{tweet}': {sentiment}\")\n"
   ]
  }
 ],
 "metadata": {
  "kernelspec": {
   "display_name": "Python 3 (ipykernel)",
   "language": "python",
   "name": "python3"
  },
  "language_info": {
   "codemirror_mode": {
    "name": "ipython",
    "version": 3
   },
   "file_extension": ".py",
   "mimetype": "text/x-python",
   "name": "python",
   "nbconvert_exporter": "python",
   "pygments_lexer": "ipython3",
   "version": "3.11.4"
  }
 },
 "nbformat": 4,
 "nbformat_minor": 5
}
